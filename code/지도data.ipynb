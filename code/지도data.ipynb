import json
import folium

geo = json.load(open('서울_자치구_경계_2017.geojson', encoding = 'UTF-8'))

map_sig = folium.Map(location = [35.94, 127.7],
                     zoom_start = 8,
                     tiles = 'Stamen Toner')

folium.Choropleth(
    geo_data=geo,
    data = result,
    columns = ('중분류','평균'),
    key_on = 'feature.properties.SIG_CD'
).add_to(map_sig)
map_sig
