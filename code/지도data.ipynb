import json
import folium

geo = json.load(open('서울_행정동코드.geojson', encoding = 'UTF-8'))

map_sig = folium.Map(location = [37.5, 127.0],
                     zoom_start = 10,
                     tiles = 'cartodbpositron')
map_sig

folium.Choropleth(
    geo_data=geo,
    data = result,
    columns = ('중분류','평균'),
    key_on = 'feature.properties.code',
    fill_opacity = 0.5,
    line_opacity = 0.2,
    fill_color = 'Blues',
    nan_fill_color = 'White',
).add_to(map_sig)
map_sig
