import pandas as pd

data = pd.read_csv('./051521.csv', encoding='cp949')
data1 = data.iloc[:, [2,4,5,30,31,32]]
data1.columns = ['시간','구','동','최대','평균','최소']

data2 = data1.sort_values(by='구', ascending=False)

data2.loc[data2.구.str.contains('Yongsan-gu'),'구'] = '용산구'
data2.loc[data2.구.str.contains('Jungnang-gu'),'구'] = '중랑구'
data2.loc[data2.구.str.contains('dongdaemun-gu'),'구'] = '동대문구'
data2.loc[data2.구.str.contains('Dobong-gu'),'구'] = '도봉구'
data2.loc[data2.구.str.contains('Yeongdeungpo-gu'),'구'] = '영등포구'
data2.loc[data2.구.str.contains('Yangcheon-gu'),'구'] = '양천구'
data2.loc[data2.구.str.contains('Songpa-gu'),'구'] = '송파구'
data2.loc[data2.구.str.contains('Seoul_Grand_Park'),'구'] = '서울대공원'
data2.loc[data2.구.str.contains('Seongbuk-gu'),'구'] = '성북구'
data2.loc[data2.구.str.contains('Seongdong-gu'),'구'] = '성동구'
data2.loc[data2.구.str.contains('Seodaemun-gu'),'구'] = '서대문구'
data2.loc[data2.구.str.contains('Seocho-gu'),'구'] = '서초구'
data2.loc[data2.구.str.contains('Nowon-gu'),'구'] = '노원구'
data2.loc[data2.구.str.contains('Mapo-gu'),'구'] = '마포구'
data2.loc[data2.구.str.contains('Jung-gu'),'구'] = '중구'
data2.loc[data2.구.str.contains('Jongno-gu'),'구'] ='종로구'
data2.loc[data2.구.str.contains('Gwangjin-gu'),'구'] = '광진구'
data2.loc[data2.구.str.contains('Gwanak-gu'),'구'] = '관악구'
data2.loc[data2.구.str.contains('Guro-gu'),'구'] = '구로구'
data2.loc[data2.구.str.contains('Geumcheon-gu'),'구'] = '금천구'
data2.loc[data2.구.str.contains('Gangseo-gu'),'구'] = '강서구'
data2.loc[data2.구.str.contains('Gangnam-gu'),'구'] = '강남구'
data2.loc[data2.구.str.contains('Gangdong-gu'),'구'] = '강동구'
data2.loc[data2.구.str.contains('Gangbuk-gu'),'구'] = '강북구'
data2.loc[data2.구.str.contains('Eunpyeong-gu'),'구'] = '은평구'
data2.loc[data2.구.str.contains('Dongjak-gu'),'구'] = '동작구'
data2.loc[data2.구.str.contains('Dongdaemun-gu'),'구'] = '동대문구'

df = data2
df = df.sort_values(by="구", ascending=False)

df2 = pd.read_csv("한국행정구역분류_행정동코드(서울).csv", encoding='cp949')
df2 = df2.sort_values(by = '시군구', ascending=False)
df2 = df2.rename(columns={'시군구':'구'})
df3 = df2.iloc[:,[2,3]]

result= pd.merge(df,df3, on='구')
